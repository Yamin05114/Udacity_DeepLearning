{
 "cells": [
  {
   "cell_type": "markdown",
   "metadata": {
    "colab_type": "text",
    "id": "kR-4eNdK6lYS"
   },
   "source": [
    "Deep Learning\n",
    "=============\n",
    "\n",
    "Assignment 3\n",
    "------------\n",
    "\n",
    "Previously in `2_fullyconnected.ipynb`, you trained a logistic regression and a neural network model.\n",
    "\n",
    "The goal of this assignment is to explore regularization techniques."
   ]
  },
  {
   "cell_type": "code",
   "execution_count": 1,
   "metadata": {
    "cellView": "both",
    "colab": {
     "autoexec": {
      "startup": false,
      "wait_interval": 0
     }
    },
    "colab_type": "code",
    "collapsed": true,
    "id": "JLpLa8Jt7Vu4"
   },
   "outputs": [],
   "source": [
    "# These are all the modules we'll be using later. Make sure you can import them\n",
    "# before proceeding further.\n",
    "from __future__ import print_function\n",
    "import numpy as np\n",
    "import tensorflow as tf\n",
    "from six.moves import cPickle as pickle"
   ]
  },
  {
   "cell_type": "markdown",
   "metadata": {
    "colab_type": "text",
    "id": "1HrCK6e17WzV"
   },
   "source": [
    "First reload the data we generated in _notmist.ipynb_."
   ]
  },
  {
   "cell_type": "code",
   "execution_count": 3,
   "metadata": {
    "cellView": "both",
    "colab": {
     "autoexec": {
      "startup": false,
      "wait_interval": 0
     },
     "output_extras": [
      {
       "item_id": 1
      }
     ]
    },
    "colab_type": "code",
    "collapsed": false,
    "executionInfo": {
     "elapsed": 11777,
     "status": "ok",
     "timestamp": 1449849322348,
     "user": {
      "color": "",
      "displayName": "",
      "isAnonymous": false,
      "isMe": true,
      "permissionId": "",
      "photoUrl": "",
      "sessionId": "0",
      "userId": ""
     },
     "user_tz": 480
    },
    "id": "y3-cj1bpmuxc",
    "outputId": "e03576f1-ebbe-4838-c388-f1777bcc9873"
   },
   "outputs": [
    {
     "name": "stdout",
     "output_type": "stream",
     "text": [
      "Training set (200000, 28, 28) (200000,)\n",
      "Validation set (10000, 28, 28) (10000,)\n",
      "Test set (10000, 28, 28) (10000,)\n"
     ]
    }
   ],
   "source": [
    "pickle_file = 'notMNIST.pickle'\n",
    "\n",
    "with open(pickle_file, 'rb') as f:\n",
    "  save = pickle.load(f)\n",
    "  train_dataset = save['train_dataset']\n",
    "  train_labels = save['train_labels']\n",
    "  valid_dataset = save['valid_dataset']\n",
    "  valid_labels = save['valid_labels']\n",
    "  test_dataset = save['test_dataset']\n",
    "  test_labels = save['test_labels']\n",
    "  del save  # hint to help gc free up memory\n",
    "  print('Training set', train_dataset.shape, train_labels.shape)\n",
    "  print('Validation set', valid_dataset.shape, valid_labels.shape)\n",
    "  print('Test set', test_dataset.shape, test_labels.shape)"
   ]
  },
  {
   "cell_type": "markdown",
   "metadata": {
    "colab_type": "text",
    "id": "L7aHrm6nGDMB"
   },
   "source": [
    "Reformat into a shape that's more adapted to the models we're going to train:\n",
    "- data as a flat matrix,\n",
    "- labels as float 1-hot encodings."
   ]
  },
  {
   "cell_type": "code",
   "execution_count": 4,
   "metadata": {
    "cellView": "both",
    "colab": {
     "autoexec": {
      "startup": false,
      "wait_interval": 0
     },
     "output_extras": [
      {
       "item_id": 1
      }
     ]
    },
    "colab_type": "code",
    "collapsed": false,
    "executionInfo": {
     "elapsed": 11728,
     "status": "ok",
     "timestamp": 1449849322356,
     "user": {
      "color": "",
      "displayName": "",
      "isAnonymous": false,
      "isMe": true,
      "permissionId": "",
      "photoUrl": "",
      "sessionId": "0",
      "userId": ""
     },
     "user_tz": 480
    },
    "id": "IRSyYiIIGIzS",
    "outputId": "3f8996ee-3574-4f44-c953-5c8a04636582"
   },
   "outputs": [
    {
     "name": "stdout",
     "output_type": "stream",
     "text": [
      "Training set (200000, 784) (200000, 10)\n",
      "Validation set (10000, 784) (10000, 10)\n",
      "Test set (10000, 784) (10000, 10)\n"
     ]
    }
   ],
   "source": [
    "image_size = 28\n",
    "num_labels = 10\n",
    "\n",
    "def reformat(dataset, labels):\n",
    "  dataset = dataset.reshape((-1, image_size * image_size)).astype(np.float32)\n",
    "  # Map 1 to [0.0, 1.0, 0.0 ...], 2 to [0.0, 0.0, 1.0 ...]\n",
    "  labels = (np.arange(num_labels) == labels[:,None]).astype(np.float32)\n",
    "  return dataset, labels\n",
    "train_dataset, train_labels = reformat(train_dataset, train_labels)\n",
    "valid_dataset, valid_labels = reformat(valid_dataset, valid_labels)\n",
    "test_dataset, test_labels = reformat(test_dataset, test_labels)\n",
    "print('Training set', train_dataset.shape, train_labels.shape)\n",
    "print('Validation set', valid_dataset.shape, valid_labels.shape)\n",
    "print('Test set', test_dataset.shape, test_labels.shape)"
   ]
  },
  {
   "cell_type": "code",
   "execution_count": 5,
   "metadata": {
    "cellView": "both",
    "colab": {
     "autoexec": {
      "startup": false,
      "wait_interval": 0
     }
    },
    "colab_type": "code",
    "collapsed": true,
    "id": "RajPLaL_ZW6w"
   },
   "outputs": [],
   "source": [
    "def accuracy(predictions, labels):\n",
    "  return (100.0 * np.sum(np.argmax(predictions, 1) == np.argmax(labels, 1))\n",
    "          / predictions.shape[0])"
   ]
  },
  {
   "cell_type": "markdown",
   "metadata": {
    "colab_type": "text",
    "id": "sgLbUAQ1CW-1"
   },
   "source": [
    "---\n",
    "Problem 1\n",
    "---------\n",
    "\n",
    "Introduce and tune L2 regularization for both logistic and neural network models. Remember that L2 amounts to adding a penalty on the norm of the weights to the loss. In TensorFlow, you can compute the L2 loss for a tensor `t` using `nn.l2_loss(t)`. The right amount of regularization should improve your validation / test accuracy.\n",
    "\n",
    "---"
   ]
  },
  {
   "cell_type": "code",
   "execution_count": 93,
   "metadata": {
    "collapsed": true
   },
   "outputs": [],
   "source": [
    "# This part is for logistic regression \n",
    "batch_size = 128\n",
    "beta=0.006\n",
    "\n",
    "graph = tf.Graph()\n",
    "with graph.as_default():\n",
    "\n",
    "    # Input data. At run time with a training minibatch.\n",
    "    tf_train_dataset = tf.placeholder(tf.float32, shape=(batch_size, image_size * image_size))\n",
    "    tf_train_labels = tf.placeholder(tf.float32, shape=(batch_size, num_labels))\n",
    "    tf_valid_dataset = tf.constant(valid_dataset)\n",
    "    tf_test_dataset = tf.constant(test_dataset)\n",
    "    beta_regul = tf.placeholder(tf.float32)\n",
    "\n",
    "  \n",
    "    # Variables    \n",
    "    weights = tf.Variable(tf.truncated_normal([image_size * image_size, num_labels]))\n",
    "    biases = tf.Variable(tf.zeros([num_labels]))\n",
    "  \n",
    "    # Training computation.\n",
    "    logits = tf.matmul(tf_train_dataset, weights) + biases\n",
    "    \n",
    "    # loss function using l2\n",
    "    loss =  tf.nn.softmax_cross_entropy_with_logits(logits, tf_train_labels) \n",
    "    loss = tf.reduce_mean(loss + beta  * tf.nn.l2_loss(weights) )\n",
    "    \n",
    "    # Optimizer.\n",
    "    optimizer = tf.train.GradientDescentOptimizer(0.5).minimize(loss)\n",
    "  \n",
    "    # Predictions for the training, validation, and test data.\n",
    "    train_prediction = tf.nn.softmax(logits)\n",
    "    valid_prediction = tf.nn.softmax( tf.matmul(tf_valid_dataset, weights) + biases )\n",
    "    test_prediction = tf.nn.softmax(tf.matmul(tf_test_dataset, weights) + biases)"
   ]
  },
  {
   "cell_type": "code",
   "execution_count": 94,
   "metadata": {
    "collapsed": false
   },
   "outputs": [
    {
     "name": "stdout",
     "output_type": "stream",
     "text": [
      "Initialized\n",
      "Minibatch loss at step 0: 34.636108\n",
      "Minibatch accuracy: 12.5%\n",
      "Validation accuracy: 14.3%\n",
      "Minibatch loss at step 500: 1.460374\n",
      "Minibatch accuracy: 80.5%\n",
      "Validation accuracy: 80.0%\n",
      "Minibatch loss at step 1000: 0.637752\n",
      "Minibatch accuracy: 85.9%\n",
      "Validation accuracy: 81.8%\n",
      "Test accuracy: 88.4%\n"
     ]
    }
   ],
   "source": [
    "num_steps = 1001\n",
    "\n",
    "with tf.Session(graph=graph) as session:\n",
    "    tf.initialize_all_variables().run()\n",
    "    print(\"Initialized\")\n",
    "    for step in range(num_steps):\n",
    "        offset = (step * batch_size) % (train_labels.shape[0] - batch_size)\n",
    "        \n",
    "        batch_data = train_dataset[offset:(offset + batch_size), :]\n",
    "        batch_labels = train_labels[offset:(offset + batch_size), :]\n",
    "        \n",
    "        feed_dict = {tf_train_dataset : batch_data, tf_train_labels : batch_labels}\n",
    "        _, l, predictions = session.run(\n",
    "          [optimizer, loss, train_prediction], feed_dict=feed_dict)\n",
    "        if (step % 500 == 0):\n",
    "            print(\"Minibatch loss at step %d: %f\" % (step, l))\n",
    "            print(\"Minibatch accuracy: %.1f%%\" % accuracy(predictions, batch_labels))\n",
    "            print(\"Validation accuracy: %.1f%%\" % accuracy(\n",
    "        valid_prediction.eval(), valid_labels))\n",
    "    print(\"Test accuracy: %.1f%%\" % accuracy(test_prediction.eval(), test_labels))"
   ]
  },
  {
   "cell_type": "code",
   "execution_count": 123,
   "metadata": {
    "collapsed": false
   },
   "outputs": [],
   "source": [
    "#This part is for Neural Network\n",
    "batch_size = 128\n",
    "hidden_layer_size = 1024\n",
    "#beta=0.006\n",
    "graph = tf.Graph()\n",
    "with graph.as_default():\n",
    "    \n",
    "    # Input data. At run time with a training minibatch.\n",
    "    tf_train_dataset = tf.placeholder(tf.float32, shape=(batch_size, image_size * image_size))\n",
    "    tf_train_labels = tf.placeholder(tf.float32, shape=(batch_size, num_labels))\n",
    "    tf_valid_dataset = tf.constant(valid_dataset)\n",
    "    tf_test_dataset = tf.constant(test_dataset)\n",
    "    beta_regul = tf.placeholder(tf.float32)\n",
    "    \n",
    "    #input -> hidden layer -> output layer\n",
    "    #Hidden Layer Variables\n",
    "    hidden_layer_weights = tf.Variable( tf.truncated_normal([image_size * image_size,hidden_layer_size ]))\n",
    "    hidden_layer_biases = tf.Variable(tf.zeros([hidden_layer_size]))\n",
    "    hidden_layer_output  = tf.nn.relu(tf.matmul(tf_train_dataset, hidden_layer_weights) + hidden_layer_biases)\n",
    "    \n",
    "    # Output Layer Variables\n",
    "    output_layer_weights = tf.Variable( tf.truncated_normal([hidden_layer_size, num_labels]))\n",
    "    output_layer_biases = tf.Variable(tf.zeros([num_labels]))\n",
    "    output_layer_output = tf.matmul(hidden_layer_output, output_layer_weights) + output_layer_biases\n",
    "    \n",
    "    \n",
    "    # Training computation.  \n",
    "    loss = tf.nn.softmax_cross_entropy_with_logits(output_layer_output, tf_train_labels)\n",
    "    \n",
    "    #Regularization: L2\n",
    "    #Here I learned from the work of  github.com/Arn-O, he tried to update loss with both the hidden layer and the ouput layer.\n",
    "    loss = tf.reduce_mean( loss + beta_regul * (tf.nn.l2_loss(hidden_layer_weights)+tf.nn.l2_loss(output_layer_weights) )) \n",
    "    \n",
    "    \n",
    "    # Optimizer.\n",
    "    optimizer = tf.train.GradientDescentOptimizer(0.5).minimize(loss)\n",
    "    \n",
    "    #Predictions for the training, validation, and test data.\n",
    "    train_prediction = tf.nn.softmax(output_layer_output)\n",
    "    \n",
    "    hidden_layer_output = tf.nn.relu(tf.matmul(tf_valid_dataset, hidden_layer_weights) + hidden_layer_biases)\n",
    "    valid_prediction = tf.nn.softmax( tf.matmul(hidden_layer_output, output_layer_weights) + output_layer_biases)\n",
    "    \n",
    "    hidden_layer_output = tf.nn.relu(tf.matmul(tf_test_dataset, hidden_layer_weights) + hidden_layer_biases)\n",
    "    test_prediction = tf.nn.softmax(tf.matmul(hidden_layer_output, output_layer_weights) + output_layer_biases)"
   ]
  },
  {
   "cell_type": "code",
   "execution_count": 124,
   "metadata": {
    "collapsed": false
   },
   "outputs": [
    {
     "name": "stdout",
     "output_type": "stream",
     "text": [
      "Initialized\n",
      "Minibatch loss at step 0: 719.395508\n",
      "Minibatch accuracy: 6.2%\n",
      "Validation accuracy: 32.5%\n",
      "Minibatch loss at step 500: 196.310791\n",
      "Minibatch accuracy: 80.5%\n",
      "Validation accuracy: 79.2%\n",
      "Minibatch loss at step 1000: 114.005936\n",
      "Minibatch accuracy: 81.2%\n",
      "Validation accuracy: 81.4%\n",
      "Minibatch loss at step 1500: 68.790779\n",
      "Minibatch accuracy: 82.8%\n",
      "Validation accuracy: 82.6%\n",
      "Minibatch loss at step 2000: 41.271774\n",
      "Minibatch accuracy: 90.6%\n",
      "Validation accuracy: 85.1%\n",
      "Minibatch loss at step 2500: 25.191772\n",
      "Minibatch accuracy: 85.9%\n",
      "Validation accuracy: 85.9%\n",
      "Minibatch loss at step 3000: 15.352528\n",
      "Minibatch accuracy: 93.0%\n",
      "Validation accuracy: 86.5%\n",
      "Test accuracy: 92.8%\n"
     ]
    }
   ],
   "source": [
    "num_steps = 3001\n",
    "\n",
    "with tf.Session(graph=graph) as session:\n",
    "  tf.initialize_all_variables().run()\n",
    "  print(\"Initialized\")\n",
    "  for step in range(num_steps):\n",
    "    # Pick an offset within the training data, which has been randomized.\n",
    "    # Note: we could use better randomization across epochs.\n",
    "    offset = (step * batch_size) % (train_labels.shape[0] - batch_size)\n",
    "    # Generate a minibatch.\n",
    "    batch_data = train_dataset[offset:(offset + batch_size), :]\n",
    "    batch_labels = train_labels[offset:(offset + batch_size), :]\n",
    "    # Prepare a dictionary telling the session where to feed the minibatch.\n",
    "    # The key of the dictionary is the placeholder node of the graph to be fed,\n",
    "    # and the value is the numpy array to feed to it.\n",
    "    feed_dict = {tf_train_dataset : batch_data, tf_train_labels : batch_labels, beta_regul : 1e-3}\n",
    "    _, l, predictions = session.run(\n",
    "      [optimizer, loss, train_prediction], feed_dict=feed_dict)\n",
    "    if (step % 500 == 0):\n",
    "      print(\"Minibatch loss at step %d: %f\" % (step, l))\n",
    "      print(\"Minibatch accuracy: %.1f%%\" % accuracy(predictions, batch_labels))\n",
    "      print(\"Validation accuracy: %.1f%%\" % accuracy(\n",
    "        valid_prediction.eval(), valid_labels))\n",
    "  print(\"Test accuracy: %.1f%%\" % accuracy(test_prediction.eval(), test_labels))"
   ]
  },
  {
   "cell_type": "markdown",
   "metadata": {
    "colab_type": "text",
    "id": "na8xX2yHZzNF"
   },
   "source": [
    "---\n",
    "Problem 2\n",
    "---------\n",
    "Let's demonstrate an extreme case of overfitting. Restrict your training data to just a few batches. What happens?\n",
    "\n",
    "---"
   ]
  },
  {
   "cell_type": "code",
   "execution_count": 131,
   "metadata": {
    "collapsed": true
   },
   "outputs": [],
   "source": [
    "#This part is for Neural Network\n",
    "batch_size = 128\n",
    "hidden_layer_size = 1024\n",
    "#beta=0.006\n",
    "graph = tf.Graph()\n",
    "with graph.as_default():\n",
    "    \n",
    "    # Input data. At run time with a training minibatch.\n",
    "    tf_train_dataset = tf.placeholder(tf.float32, shape=(batch_size, image_size * image_size))\n",
    "    tf_train_labels = tf.placeholder(tf.float32, shape=(batch_size, num_labels))\n",
    "    tf_valid_dataset = tf.constant(valid_dataset)\n",
    "    tf_test_dataset = tf.constant(test_dataset)\n",
    "    beta_regul = tf.placeholder(tf.float32)\n",
    "    \n",
    "    #input -> hidden layer -> output layer\n",
    "    #Hidden Layer Variables\n",
    "    hidden_layer_weights = tf.Variable( tf.truncated_normal([image_size * image_size,hidden_layer_size ]))\n",
    "    hidden_layer_biases = tf.Variable(tf.zeros([hidden_layer_size]))\n",
    "    hidden_layer_output  = tf.nn.relu(tf.matmul(tf_train_dataset, hidden_layer_weights) + hidden_layer_biases)\n",
    "    \n",
    "    # Output Layer Variables\n",
    "    output_layer_weights = tf.Variable( tf.truncated_normal([hidden_layer_size, num_labels]))\n",
    "    output_layer_biases = tf.Variable(tf.zeros([num_labels]))\n",
    "    output_layer_output = tf.matmul(hidden_layer_output, output_layer_weights) + output_layer_biases\n",
    "    \n",
    "    \n",
    "    # Training computation.  \n",
    "    loss = tf.reduce_mean(tf.nn.softmax_cross_entropy_with_logits(output_layer_output, tf_train_labels))\n",
    "    \n",
    "    #Regularization: No\n",
    "    \n",
    "    \n",
    "    # Optimizer.\n",
    "    optimizer = tf.train.GradientDescentOptimizer(0.5).minimize(loss)\n",
    "    \n",
    "    #Predictions for the training, validation, and test data.\n",
    "    train_prediction = tf.nn.softmax(output_layer_output)\n",
    "    \n",
    "    hidden_layer_output = tf.nn.relu(tf.matmul(tf_valid_dataset, hidden_layer_weights) + hidden_layer_biases)\n",
    "    valid_prediction = tf.nn.softmax( tf.matmul(hidden_layer_output, output_layer_weights) + output_layer_biases)\n",
    "    \n",
    "    hidden_layer_output = tf.nn.relu(tf.matmul(tf_test_dataset, hidden_layer_weights) + hidden_layer_biases)\n",
    "    test_prediction = tf.nn.softmax(tf.matmul(hidden_layer_output, output_layer_weights) + output_layer_biases)"
   ]
  },
  {
   "cell_type": "code",
   "execution_count": 132,
   "metadata": {
    "collapsed": false
   },
   "outputs": [
    {
     "name": "stdout",
     "output_type": "stream",
     "text": [
      "Initialized\n",
      "Minibatch loss at step 0: 309.821167\n",
      "Minibatch accuracy: 10.2%\n",
      "Validation accuracy: 28.9%\n",
      "Minibatch loss at step 500: 0.000000\n",
      "Minibatch accuracy: 100.0%\n",
      "Validation accuracy: 67.5%\n",
      "Minibatch loss at step 1000: 0.000000\n",
      "Minibatch accuracy: 100.0%\n",
      "Validation accuracy: 67.5%\n",
      "Minibatch loss at step 1500: 0.000000\n",
      "Minibatch accuracy: 100.0%\n",
      "Validation accuracy: 67.5%\n",
      "Minibatch loss at step 2000: 0.000000\n",
      "Minibatch accuracy: 100.0%\n",
      "Validation accuracy: 67.5%\n",
      "Minibatch loss at step 2500: 0.000000\n",
      "Minibatch accuracy: 100.0%\n",
      "Validation accuracy: 67.5%\n",
      "Minibatch loss at step 3000: 0.000000\n",
      "Minibatch accuracy: 100.0%\n",
      "Validation accuracy: 67.5%\n",
      "Test accuracy: 74.0%\n"
     ]
    }
   ],
   "source": [
    "num_steps = 3001\n",
    "num_batches=3\n",
    "with tf.Session(graph=graph) as session:\n",
    "    tf.initialize_all_variables().run()\n",
    "    print(\"Initialized\")\n",
    "    for step in range(num_steps):\n",
    "        #The control of the randomization is very important.\n",
    "        #offset = (step * batch_size) % (train_labels.shape[0] - batch_size)\n",
    "        offset = step % ( num_batches)\n",
    "        \n",
    "        #Generate a batch\n",
    "        batch_data = train_dataset[offset:(offset + batch_size), :]\n",
    "        batch_labels = train_labels[offset:(offset + batch_size), :]\n",
    "        \n",
    "        feed_dict = {tf_train_dataset : batch_data, tf_train_labels : batch_labels}\n",
    "        _, l, predictions = session.run(\n",
    "          [optimizer, loss, train_prediction], feed_dict=feed_dict)\n",
    "        if (step % 500 == 0):\n",
    "            print(\"Minibatch loss at step %d: %f\" % (step, l))\n",
    "            print(\"Minibatch accuracy: %.1f%%\" % accuracy(predictions, batch_labels))\n",
    "            print(\"Validation accuracy: %.1f%%\" % accuracy(\n",
    "        valid_prediction.eval(), valid_labels))\n",
    "    print(\"Test accuracy: %.1f%%\" % accuracy(test_prediction.eval(), test_labels))"
   ]
  },
  {
   "cell_type": "markdown",
   "metadata": {
    "colab_type": "text",
    "id": "ww3SCBUdlkRc"
   },
   "source": [
    "---\n",
    "Problem 3\n",
    "---------\n",
    "Introduce Dropout on the hidden layer of the neural network. Remember: Dropout should only be introduced during training, not evaluation, otherwise your evaluation results would be stochastic as well. TensorFlow provides `nn.dropout()` for that, but you have to make sure it's only inserted during training.\n",
    "\n",
    "What happens to our extreme overfitting case?\n",
    "\n",
    "---"
   ]
  },
  {
   "cell_type": "code",
   "execution_count": 137,
   "metadata": {
    "collapsed": true
   },
   "outputs": [],
   "source": [
    "#This part is for Neural Network\n",
    "batch_size = 128\n",
    "hidden_layer_size = 1024\n",
    "graph = tf.Graph()\n",
    "with graph.as_default():\n",
    "    \n",
    "    # Input data. At run time with a training minibatch.\n",
    "    tf_train_dataset = tf.placeholder(tf.float32, shape=(batch_size, image_size * image_size))\n",
    "    tf_train_labels = tf.placeholder(tf.float32, shape=(batch_size, num_labels))\n",
    "    tf_valid_dataset = tf.constant(valid_dataset)\n",
    "    tf_test_dataset = tf.constant(test_dataset)\n",
    "    beta_regul = tf.placeholder(tf.float32)\n",
    "    \n",
    "    #input -> hidden layer -> output layer\n",
    "    #Hidden Layer Variables\n",
    "    hidden_layer_weights = tf.Variable( tf.truncated_normal([image_size * image_size,hidden_layer_size ]))\n",
    "    hidden_layer_biases = tf.Variable(tf.zeros([hidden_layer_size]))\n",
    "    hidden_layer_output  = tf.nn.relu(tf.matmul(tf_train_dataset, hidden_layer_weights) + hidden_layer_biases)\n",
    "    \n",
    "    #Regularization: Drop out \n",
    "    #Remember: Drop out always happens between layers\n",
    "    hidden_layer_output_after_drop = tf.nn.dropout(hidden_layer_output, 0.6)\n",
    "    \n",
    "    # Output Layer Variables\n",
    "    output_layer_weights = tf.Variable( tf.truncated_normal([hidden_layer_size, num_labels]))\n",
    "    output_layer_biases = tf.Variable(tf.zeros([num_labels]))\n",
    "    output_layer_output = tf.matmul(hidden_layer_output, output_layer_weights) + output_layer_biases\n",
    "    \n",
    "    \n",
    "    # Training computation.  \n",
    "    loss = tf.reduce_mean(tf.nn.softmax_cross_entropy_with_logits(output_layer_output, tf_train_labels))\n",
    "    \n",
    "    # Optimizer.\n",
    "    optimizer = tf.train.GradientDescentOptimizer(0.5).minimize(loss)\n",
    "    \n",
    "    #Predictions for the training, validation, and test data.\n",
    "    train_prediction = tf.nn.softmax(output_layer_output)\n",
    "    \n",
    "    hidden_layer_output = tf.nn.relu(tf.matmul(tf_valid_dataset, hidden_layer_weights) + hidden_layer_biases)\n",
    "    valid_prediction = tf.nn.softmax( tf.matmul(hidden_layer_output, output_layer_weights) + output_layer_biases)\n",
    "    \n",
    "    hidden_layer_output = tf.nn.relu(tf.matmul(tf_test_dataset, hidden_layer_weights) + hidden_layer_biases)\n",
    "    test_prediction = tf.nn.softmax(tf.matmul(hidden_layer_output, output_layer_weights) + output_layer_biases)"
   ]
  },
  {
   "cell_type": "code",
   "execution_count": 138,
   "metadata": {
    "collapsed": false
   },
   "outputs": [
    {
     "name": "stdout",
     "output_type": "stream",
     "text": [
      "Initialized\n",
      "Minibatch loss at step 0: 381.021790\n",
      "Minibatch accuracy: 10.9%\n",
      "Validation accuracy: 34.6%\n",
      "Minibatch loss at step 500: 0.000000\n",
      "Minibatch accuracy: 100.0%\n",
      "Validation accuracy: 64.9%\n",
      "Minibatch loss at step 1000: 0.000000\n",
      "Minibatch accuracy: 100.0%\n",
      "Validation accuracy: 64.9%\n",
      "Minibatch loss at step 1500: 0.000000\n",
      "Minibatch accuracy: 100.0%\n",
      "Validation accuracy: 64.9%\n",
      "Minibatch loss at step 2000: 0.000000\n",
      "Minibatch accuracy: 100.0%\n",
      "Validation accuracy: 64.9%\n",
      "Minibatch loss at step 2500: 0.000000\n",
      "Minibatch accuracy: 100.0%\n",
      "Validation accuracy: 64.9%\n",
      "Minibatch loss at step 3000: 0.000000\n",
      "Minibatch accuracy: 100.0%\n",
      "Validation accuracy: 64.9%\n",
      "Test accuracy: 71.5%\n"
     ]
    }
   ],
   "source": [
    "num_steps = 3001\n",
    "num_batches=3\n",
    "with tf.Session(graph=graph) as session:\n",
    "    tf.initialize_all_variables().run()\n",
    "    print(\"Initialized\")\n",
    "    for step in range(num_steps):\n",
    "        #The control of the randomization is very important.\n",
    "        #offset = (step * batch_size) % (train_labels.shape[0] - batch_size)\n",
    "        offset = step % ( num_batches)\n",
    "        \n",
    "        #Generate a batch\n",
    "        batch_data = train_dataset[offset:(offset + batch_size), :]\n",
    "        batch_labels = train_labels[offset:(offset + batch_size), :]\n",
    "        \n",
    "        feed_dict = {tf_train_dataset : batch_data, tf_train_labels : batch_labels}\n",
    "        _, l, predictions = session.run(\n",
    "          [optimizer, loss, train_prediction], feed_dict=feed_dict)\n",
    "        if (step % 500 == 0):\n",
    "            print(\"Minibatch loss at step %d: %f\" % (step, l))\n",
    "            print(\"Minibatch accuracy: %.1f%%\" % accuracy(predictions, batch_labels))\n",
    "            print(\"Validation accuracy: %.1f%%\" % accuracy(\n",
    "        valid_prediction.eval(), valid_labels))\n",
    "    print(\"Test accuracy: %.1f%%\" % accuracy(test_prediction.eval(), test_labels))"
   ]
  },
  {
   "cell_type": "markdown",
   "metadata": {
    "colab_type": "text",
    "id": "-b1hTz3VWZjw"
   },
   "source": [
    "---\n",
    "Problem 4\n",
    "---------\n",
    "\n",
    "Try to get the best performance you can using a multi-layer model! The best reported test accuracy using a deep network is [97.1%](http://yaroslavvb.blogspot.com/2011/09/notmnist-dataset.html?showComment=1391023266211#c8758720086795711595).\n",
    "\n",
    "One avenue you can explore is to add multiple layers.\n",
    "\n",
    "Another one is to use learning rate decay:\n",
    "\n",
    "    global_step = tf.Variable(0)  # count the number of steps taken.\n",
    "    learning_rate = tf.train.exponential_decay(0.5, global_step, ...)\n",
    "    optimizer = tf.train.GradientDescentOptimizer(learning_rate).minimize(loss, global_step=global_step)\n",
    " \n",
    " ---\n"
   ]
  },
  {
   "cell_type": "code",
   "execution_count": 171,
   "metadata": {
    "collapsed": false
   },
   "outputs": [],
   "source": [
    "#This part is for Neural Network\n",
    "batch_size = 128\n",
    "\n",
    "hidden_layer1_size = 1024\n",
    "hidden_layer2_size = 256\n",
    "hidden_layer3_size = 128\n",
    "\n",
    "graph = tf.Graph()\n",
    "with graph.as_default():\n",
    "    \n",
    "    # Input data. At run time with a training minibatch.\n",
    "    tf_train_dataset = tf.placeholder(tf.float32, shape=(batch_size, image_size * image_size))\n",
    "    tf_train_labels = tf.placeholder(tf.float32, shape=(batch_size, num_labels))\n",
    "    tf_valid_dataset = tf.constant(valid_dataset)\n",
    "    tf_test_dataset = tf.constant(test_dataset)\n",
    "    \n",
    "    global_step = tf.Variable(0)\n",
    "    \n",
    "    #input -> hidden layer -> output layer\n",
    "    #Hidden Layer 1\n",
    "    hidden_layer1_weights = tf.Variable( tf.truncated_normal([image_size * image_size,hidden_layer1_size ], stddev=np.sqrt(2.0 / (image_size * image_size))))\n",
    "    hidden_layer1_biases = tf.Variable(tf.zeros([hidden_layer1_size]))\n",
    "    hidden_layer1_output  = tf.nn.relu(tf.matmul(tf_train_dataset, hidden_layer1_weights) + hidden_layer1_biases)\n",
    "    hidden_layer1_output_after_drop = tf.nn.dropout(hidden_layer1_output, 0.5)\n",
    "    #Hidden Layer 2\n",
    "    hidden_layer2_weights = tf.Variable( tf.truncated_normal([hidden_layer1_size, hidden_layer2_size], stddev=np.sqrt(2.0 / hidden_layer1_size)))\n",
    "    hidden_layer2_biases = tf.Variable(tf.zeros([hidden_layer2_size]))\n",
    "    hidden_layer2_output  = tf.nn.relu(tf.matmul(hidden_layer1_output_after_drop, hidden_layer2_weights) + hidden_layer2_biases)\n",
    "    hidden_layer2_output_after_drop = tf.nn.dropout(hidden_layer2_output, 0.5)\n",
    "    #Hidden Layer 3\n",
    "    hidden_layer3_weights = tf.Variable( tf.truncated_normal([hidden_layer2_size, hidden_layer3_size], stddev=np.sqrt(2.0 / hidden_layer2_size)))\n",
    "    hidden_layer3_biases = tf.Variable(tf.zeros([hidden_layer3_size]))\n",
    "    hidden_layer3_output  = tf.nn.relu(tf.matmul(hidden_layer2_output_after_drop, hidden_layer3_weights) + hidden_layer3_biases)\n",
    "    hidden_layer3_output_after_drop = tf.nn.dropout(hidden_layer3_output, 0.5)\n",
    "    \n",
    "    # Output Layer Variables\n",
    "    output_layer_weights = tf.Variable( tf.truncated_normal([hidden_layer3_size, num_labels],stddev=np.sqrt(2.0 / hidden_layer3_size)))\n",
    "    output_layer_biases = tf.Variable(tf.zeros([num_labels]))\n",
    "    output_layer_output = tf.matmul(hidden_layer3_output_after_drop, output_layer_weights) + output_layer_biases\n",
    "      \n",
    "    # Training computation.  \n",
    "    loss = tf.reduce_mean(tf.nn.softmax_cross_entropy_with_logits(output_layer_output, tf_train_labels))\n",
    "    \n",
    "    # Optimizer.\n",
    "    learning_rate = tf.train.exponential_decay(0.5, global_step, 4000, 0.65, staircase=True)\n",
    "    optimizer = tf.train.GradientDescentOptimizer(learning_rate).minimize(loss, global_step=global_step)\n",
    "    \n",
    "    #Predictions for the training data.\n",
    "    train_prediction = tf.nn.softmax(output_layer_output)\n",
    "    #Predictions for the validation data.\n",
    "    hidden_layer1_output = tf.nn.relu(tf.matmul(tf_valid_dataset, hidden_layer1_weights) + hidden_layer1_biases)\n",
    "    hidden_layer2_output = tf.nn.relu(tf.matmul(hidden_layer1_output, hidden_layer2_weights) + hidden_layer2_biases)\n",
    "    hidden_layer3_output = tf.nn.relu(tf.matmul(hidden_layer2_output, hidden_layer3_weights) + hidden_layer3_biases)\n",
    "    valid_prediction = tf.nn.softmax( tf.matmul(hidden_layer3_output, output_layer_weights) + output_layer_biases)\n",
    "    #Predictions for the test data.\n",
    "    hidden_layer1_output = tf.nn.relu(tf.matmul(tf_test_dataset, hidden_layer1_weights) + hidden_layer1_biases)\n",
    "    hidden_layer2_output = tf.nn.relu(tf.matmul(hidden_layer1_output, hidden_layer2_weights) + hidden_layer2_biases)\n",
    "    hidden_layer3_output = tf.nn.relu(tf.matmul(hidden_layer2_output, hidden_layer3_weights) + hidden_layer3_biases)\n",
    "    test_prediction = tf.nn.softmax( tf.matmul(hidden_layer3_output, output_layer_weights) + output_layer_biases)"
   ]
  },
  {
   "cell_type": "code",
   "execution_count": 172,
   "metadata": {
    "collapsed": false
   },
   "outputs": [
    {
     "name": "stdout",
     "output_type": "stream",
     "text": [
      "Initialized\n",
      "Minibatch loss at step 0: 2.646016\n",
      "Minibatch accuracy: 7.0%\n",
      "Validation accuracy: 16.9%\n",
      "Minibatch loss at step 500: 0.516561\n",
      "Minibatch accuracy: 83.6%\n",
      "Validation accuracy: 83.6%\n",
      "Minibatch loss at step 1000: 0.447040\n",
      "Minibatch accuracy: 85.9%\n",
      "Validation accuracy: 84.4%\n",
      "Minibatch loss at step 1500: 0.554450\n",
      "Minibatch accuracy: 82.0%\n",
      "Validation accuracy: 85.1%\n",
      "Minibatch loss at step 2000: 0.352772\n",
      "Minibatch accuracy: 85.2%\n",
      "Validation accuracy: 85.8%\n",
      "Minibatch loss at step 2500: 0.604017\n",
      "Minibatch accuracy: 84.4%\n",
      "Validation accuracy: 86.0%\n",
      "Minibatch loss at step 3000: 0.336978\n",
      "Minibatch accuracy: 90.6%\n",
      "Validation accuracy: 86.2%\n",
      "Minibatch loss at step 3500: 0.605498\n",
      "Minibatch accuracy: 83.6%\n",
      "Validation accuracy: 86.3%\n",
      "Minibatch loss at step 4000: 0.730647\n",
      "Minibatch accuracy: 79.7%\n",
      "Validation accuracy: 86.9%\n",
      "Minibatch loss at step 4500: 0.321853\n",
      "Minibatch accuracy: 89.8%\n",
      "Validation accuracy: 87.5%\n",
      "Minibatch loss at step 5000: 0.578736\n",
      "Minibatch accuracy: 82.0%\n",
      "Validation accuracy: 87.6%\n",
      "Minibatch loss at step 5500: 0.482493\n",
      "Minibatch accuracy: 85.9%\n",
      "Validation accuracy: 88.0%\n",
      "Minibatch loss at step 6000: 0.441145\n",
      "Minibatch accuracy: 85.2%\n",
      "Validation accuracy: 87.9%\n",
      "Minibatch loss at step 6500: 0.485989\n",
      "Minibatch accuracy: 85.2%\n",
      "Validation accuracy: 87.8%\n",
      "Minibatch loss at step 7000: 0.472348\n",
      "Minibatch accuracy: 85.2%\n",
      "Validation accuracy: 88.2%\n",
      "Minibatch loss at step 7500: 0.423696\n",
      "Minibatch accuracy: 86.7%\n",
      "Validation accuracy: 88.3%\n",
      "Minibatch loss at step 8000: 0.514570\n",
      "Minibatch accuracy: 83.6%\n",
      "Validation accuracy: 88.5%\n",
      "Minibatch loss at step 8500: 0.329444\n",
      "Minibatch accuracy: 90.6%\n",
      "Validation accuracy: 88.7%\n",
      "Minibatch loss at step 9000: 0.408931\n",
      "Minibatch accuracy: 83.6%\n",
      "Validation accuracy: 88.8%\n",
      "Minibatch loss at step 9500: 0.404550\n",
      "Minibatch accuracy: 85.9%\n",
      "Validation accuracy: 88.9%\n",
      "Minibatch loss at step 10000: 0.315359\n",
      "Minibatch accuracy: 91.4%\n",
      "Validation accuracy: 89.0%\n",
      "Minibatch loss at step 10500: 0.278828\n",
      "Minibatch accuracy: 89.8%\n",
      "Validation accuracy: 89.1%\n",
      "Minibatch loss at step 11000: 0.545485\n",
      "Minibatch accuracy: 87.5%\n",
      "Validation accuracy: 89.3%\n",
      "Minibatch loss at step 11500: 0.582268\n",
      "Minibatch accuracy: 82.8%\n",
      "Validation accuracy: 89.2%\n",
      "Minibatch loss at step 12000: 0.345864\n",
      "Minibatch accuracy: 90.6%\n",
      "Validation accuracy: 89.1%\n",
      "Minibatch loss at step 12500: 0.355593\n",
      "Minibatch accuracy: 89.1%\n",
      "Validation accuracy: 89.4%\n",
      "Minibatch loss at step 13000: 0.457626\n",
      "Minibatch accuracy: 85.2%\n",
      "Validation accuracy: 89.4%\n",
      "Minibatch loss at step 13500: 0.291932\n",
      "Minibatch accuracy: 92.2%\n",
      "Validation accuracy: 89.5%\n",
      "Minibatch loss at step 14000: 0.370752\n",
      "Minibatch accuracy: 89.1%\n",
      "Validation accuracy: 89.3%\n",
      "Minibatch loss at step 14500: 0.402708\n",
      "Minibatch accuracy: 89.1%\n",
      "Validation accuracy: 89.5%\n",
      "Minibatch loss at step 15000: 0.295006\n",
      "Minibatch accuracy: 90.6%\n",
      "Validation accuracy: 89.6%\n",
      "Minibatch loss at step 15500: 0.330442\n",
      "Minibatch accuracy: 90.6%\n",
      "Validation accuracy: 89.6%\n",
      "Minibatch loss at step 16000: 0.362961\n",
      "Minibatch accuracy: 87.5%\n",
      "Validation accuracy: 89.6%\n",
      "Minibatch loss at step 16500: 0.361317\n",
      "Minibatch accuracy: 88.3%\n",
      "Validation accuracy: 89.8%\n",
      "Minibatch loss at step 17000: 0.321938\n",
      "Minibatch accuracy: 88.3%\n",
      "Validation accuracy: 89.9%\n",
      "Minibatch loss at step 17500: 0.339917\n",
      "Minibatch accuracy: 87.5%\n",
      "Validation accuracy: 89.8%\n",
      "Minibatch loss at step 18000: 0.454585\n",
      "Minibatch accuracy: 85.9%\n",
      "Validation accuracy: 89.8%\n",
      "Test accuracy: 95.2%\n"
     ]
    }
   ],
   "source": [
    "num_steps = 18001\n",
    "\n",
    "with tf.Session(graph=graph) as session:\n",
    "  tf.initialize_all_variables().run()\n",
    "  print(\"Initialized\")\n",
    "  for step in range(num_steps):\n",
    "    # Pick an offset within the training data, which has been randomized.\n",
    "    # Note: we could use better randomization across epochs.\n",
    "    offset = (step * batch_size) % (train_labels.shape[0] - batch_size)\n",
    "    # Generate a minibatch.\n",
    "    batch_data = train_dataset[offset:(offset + batch_size), :]\n",
    "    batch_labels = train_labels[offset:(offset + batch_size), :]\n",
    "    # Prepare a dictionary telling the session where to feed the minibatch.\n",
    "    # The key of the dictionary is the placeholder node of the graph to be fed,\n",
    "    # and the value is the numpy array to feed to it.\n",
    "    feed_dict = {tf_train_dataset : batch_data, tf_train_labels : batch_labels}\n",
    "    _, l, predictions = session.run(\n",
    "      [optimizer, loss, train_prediction], feed_dict=feed_dict)\n",
    "    if (step % 500 == 0):\n",
    "      print(\"Minibatch loss at step %d: %f\" % (step, l))\n",
    "      print(\"Minibatch accuracy: %.1f%%\" % accuracy(predictions, batch_labels))\n",
    "      print(\"Validation accuracy: %.1f%%\" % accuracy(\n",
    "        valid_prediction.eval(), valid_labels))\n",
    "  print(\"Test accuracy: %.1f%%\" % accuracy(test_prediction.eval(), test_labels))"
   ]
  },
  {
   "cell_type": "code",
   "execution_count": null,
   "metadata": {
    "collapsed": true
   },
   "outputs": [],
   "source": []
  },
  {
   "cell_type": "code",
   "execution_count": null,
   "metadata": {
    "collapsed": true
   },
   "outputs": [],
   "source": []
  }
 ],
 "metadata": {
  "anaconda-cloud": {},
  "colab": {
   "default_view": {},
   "name": "3_regularization.ipynb",
   "provenance": [],
   "version": "0.3.2",
   "views": {}
  },
  "kernelspec": {
   "display_name": "Python [default]",
   "language": "python",
   "name": "python2"
  },
  "language_info": {
   "codemirror_mode": {
    "name": "ipython",
    "version": 2
   },
   "file_extension": ".py",
   "mimetype": "text/x-python",
   "name": "python",
   "nbconvert_exporter": "python",
   "pygments_lexer": "ipython2",
   "version": "2.7.12"
  }
 },
 "nbformat": 4,
 "nbformat_minor": 0
}
